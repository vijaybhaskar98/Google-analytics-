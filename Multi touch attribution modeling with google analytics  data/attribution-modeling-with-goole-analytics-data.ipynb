{
 "cells": [
  {
   "cell_type": "markdown",
   "id": "54201fb7",
   "metadata": {
    "papermill": {
     "duration": 0.006168,
     "end_time": "2023-11-17T02:25:50.577285",
     "exception": false,
     "start_time": "2023-11-17T02:25:50.571117",
     "status": "completed"
    },
    "tags": []
   },
   "source": [
    "# Multi touch attribution modeling with Google analytics data"
   ]
  },
  {
   "cell_type": "markdown",
   "id": "4f8503bb",
   "metadata": {
    "papermill": {
     "duration": 0.00548,
     "end_time": "2023-11-17T02:25:50.588592",
     "exception": false,
     "start_time": "2023-11-17T02:25:50.583112",
     "status": "completed"
    },
    "tags": []
   },
   "source": [
    "Understanding the sources that contribute to a high conversion rate is crucial for effective decision-making in resource allocation. It's essential to gain insights into the channels where investments are made and the returns generated. This project aims to analyze various channels using different models, providing valuable information to optimize our credit system. Through this paper, we will explore and evaluate diverse channels to enhance our understanding of their impact on conversion rates.\n",
    "\n",
    "To familiarize yourself with [Channel Attribution](https://channelattribution.io/pdf/ChannelAttributionWhitePaper.pdf), it's essential to understand various attribution models:\n",
    "\n",
    "* **First Touch Conversion:** This model attributes user conversion credit to the first touchpoint from which the user initially arrived.\n",
    "* **Last Touchpoint Conversion:** User credit is attributed to the last touchpoint before conversion.\n",
    "* **Linear Touchpoint:** Conversion credit is evenly distributed across all touchpoints that the user interacted with.\n",
    "* **Markov Model:** A probabilistic model that assigns credit based on the paths most conversions have taken. Refer to the graph below for a visual representation.\n",
    "\n"
   ]
  },
  {
   "cell_type": "markdown",
   "id": "5542d912",
   "metadata": {
    "papermill": {
     "duration": 0.005259,
     "end_time": "2023-11-17T02:25:50.599438",
     "exception": false,
     "start_time": "2023-11-17T02:25:50.594179",
     "status": "completed"
    },
    "tags": []
   },
   "source": [
    "🚀 Let's Dive into the Code! 📊👩‍💻 "
   ]
  },
  {
   "cell_type": "code",
   "execution_count": 1,
   "id": "e3d84bc1",
   "metadata": {
    "execution": {
     "iopub.execute_input": "2023-11-17T02:25:50.612774Z",
     "iopub.status.busy": "2023-11-17T02:25:50.612379Z",
     "iopub.status.idle": "2023-11-17T02:25:57.389845Z",
     "shell.execute_reply": "2023-11-17T02:25:57.388070Z"
    },
    "papermill": {
     "duration": 6.787715,
     "end_time": "2023-11-17T02:25:57.392907",
     "exception": false,
     "start_time": "2023-11-17T02:25:50.605192",
     "status": "completed"
    },
    "tags": []
   },
   "outputs": [
    {
     "name": "stdout",
     "output_type": "stream",
     "text": [
      "Using Kaggle's public dataset BigQuery integration.\n"
     ]
    }
   ],
   "source": [
    "import numpy as np \n",
    "import pandas as pd\n",
    "\n",
    "# Creating Google cloud instance for Bigquery\n",
    "from google.cloud import bigquery\n",
    "\n",
    "from plotly import graph_objects as go\n",
    "import plotly.io as pio\n",
    "import matplotlib as mpl\n",
    "import matplotlib.pyplot as plt\n",
    "import matplotlib.style as style\n",
    "import seaborn as sns\n",
    "\n",
    "%matplotlib inline\n",
    "\n",
    "# connecting with igquery client\n",
    "client = bigquery.Client()\n"
   ]
  },
  {
   "cell_type": "code",
   "execution_count": 2,
   "id": "0db05907",
   "metadata": {
    "execution": {
     "iopub.execute_input": "2023-11-17T02:25:57.406884Z",
     "iopub.status.busy": "2023-11-17T02:25:57.406279Z",
     "iopub.status.idle": "2023-11-17T02:26:41.018320Z",
     "shell.execute_reply": "2023-11-17T02:26:41.017013Z"
    },
    "papermill": {
     "duration": 43.621536,
     "end_time": "2023-11-17T02:26:41.020603",
     "exception": false,
     "start_time": "2023-11-17T02:25:57.399067",
     "status": "completed"
    },
    "tags": []
   },
   "outputs": [],
   "source": [
    "%%capture\n",
    "# Channel attribution models : https://channelattribution.io/\n",
    "!pip install ChannelAttribution\n",
    "from ChannelAttribution import *"
   ]
  },
  {
   "cell_type": "markdown",
   "id": "8b4ffddc",
   "metadata": {
    "papermill": {
     "duration": 0.00543,
     "end_time": "2023-11-17T02:26:41.032166",
     "exception": false,
     "start_time": "2023-11-17T02:26:41.026736",
     "status": "completed"
    },
    "tags": []
   },
   "source": [
    "🔍 SQL Query: Retrieve Sessions with Conversions using Common Table Expression 📊"
   ]
  },
  {
   "cell_type": "code",
   "execution_count": 3,
   "id": "9ca3b4eb",
   "metadata": {
    "execution": {
     "iopub.execute_input": "2023-11-17T02:26:41.045727Z",
     "iopub.status.busy": "2023-11-17T02:26:41.045349Z",
     "iopub.status.idle": "2023-11-17T02:28:06.420038Z",
     "shell.execute_reply": "2023-11-17T02:28:06.418939Z"
    },
    "papermill": {
     "duration": 85.390076,
     "end_time": "2023-11-17T02:28:06.427916",
     "exception": false,
     "start_time": "2023-11-17T02:26:41.037840",
     "status": "completed"
    },
    "tags": []
   },
   "outputs": [
    {
     "data": {
      "text/html": [
       "<div>\n",
       "<style scoped>\n",
       "    .dataframe tbody tr th:only-of-type {\n",
       "        vertical-align: middle;\n",
       "    }\n",
       "\n",
       "    .dataframe tbody tr th {\n",
       "        vertical-align: top;\n",
       "    }\n",
       "\n",
       "    .dataframe thead th {\n",
       "        text-align: right;\n",
       "    }\n",
       "</style>\n",
       "<table border=\"1\" class=\"dataframe\">\n",
       "  <thead>\n",
       "    <tr style=\"text-align: right;\">\n",
       "      <th></th>\n",
       "      <th>fullVisitorId</th>\n",
       "      <th>visitNumber</th>\n",
       "      <th>conversion</th>\n",
       "      <th>value</th>\n",
       "      <th>medium</th>\n",
       "    </tr>\n",
       "  </thead>\n",
       "  <tbody>\n",
       "    <tr>\n",
       "      <th>0</th>\n",
       "      <td>9476348446859765776</td>\n",
       "      <td>11</td>\n",
       "      <td>NaN</td>\n",
       "      <td>NaN</td>\n",
       "      <td>(not set)</td>\n",
       "    </tr>\n",
       "    <tr>\n",
       "      <th>1</th>\n",
       "      <td>9476348446859765776</td>\n",
       "      <td>12</td>\n",
       "      <td>NaN</td>\n",
       "      <td>NaN</td>\n",
       "      <td>(not set)</td>\n",
       "    </tr>\n",
       "    <tr>\n",
       "      <th>2</th>\n",
       "      <td>9476348446859765776</td>\n",
       "      <td>13</td>\n",
       "      <td>NaN</td>\n",
       "      <td>NaN</td>\n",
       "      <td>(not set)</td>\n",
       "    </tr>\n",
       "    <tr>\n",
       "      <th>3</th>\n",
       "      <td>6335006349301752754</td>\n",
       "      <td>2</td>\n",
       "      <td>NaN</td>\n",
       "      <td>NaN</td>\n",
       "      <td>(not set)</td>\n",
       "    </tr>\n",
       "    <tr>\n",
       "      <th>4</th>\n",
       "      <td>2252397032713461364</td>\n",
       "      <td>6</td>\n",
       "      <td>NaN</td>\n",
       "      <td>NaN</td>\n",
       "      <td>(not set)</td>\n",
       "    </tr>\n",
       "  </tbody>\n",
       "</table>\n",
       "</div>"
      ],
      "text/plain": [
       "         fullVisitorId  visitNumber  conversion  value     medium\n",
       "0  9476348446859765776           11         NaN    NaN  (not set)\n",
       "1  9476348446859765776           12         NaN    NaN  (not set)\n",
       "2  9476348446859765776           13         NaN    NaN  (not set)\n",
       "3  6335006349301752754            2         NaN    NaN  (not set)\n",
       "4  2252397032713461364            6         NaN    NaN  (not set)"
      ]
     },
     "execution_count": 3,
     "metadata": {},
     "output_type": "execute_result"
    }
   ],
   "source": [
    "#SQL to get all the sessions with conversions.\n",
    "# Using Common table expresiion for retriving the query\n",
    "session_medum='''\n",
    "\n",
    " WITH convrsion_summed AS(\n",
    " SELECT \n",
    "   fullVisitorId, visitNumber,\n",
    "               totals.transactions AS conversion, \n",
    "               totals.totalTransactionRevenue/1000000 AS value,\n",
    "               trafficSource.medium AS medium,\n",
    "               SUM(CASE WHEN totals.transactions IS NULL\n",
    "                       THEN 0 ELSE 1 END)\n",
    "                 OVER(PARTITION BY fullVisitorId\n",
    "                         ORDER BY visitNumber\n",
    "                         ROWS BETWEEN UNBOUNDED PRECEDING AND CURRENT ROW  \n",
    "                         )AS convosofar,\n",
    "                FROM `bigquery-public-data.google_analytics_sample.ga_sessions_*`\n",
    "                WHERE   _TABLE_SUFFIX BETWEEN '20160801' AND '20170801'\n",
    "                       )\n",
    "                       \n",
    "SELECT fullVisitorId,visitNumber,  conversion, value,\n",
    "           medium\n",
    "FROM convrsion_summed \n",
    "WHERE convosofar=0 \n",
    "OR convosofar=1\n",
    "\n",
    "'''\n",
    "session_medium_df = client.query(session_medum).result().to_dataframe()\n",
    "session_medium_df.head()"
   ]
  },
  {
   "cell_type": "markdown",
   "id": "82e24e94",
   "metadata": {
    "papermill": {
     "duration": 0.005498,
     "end_time": "2023-11-17T02:28:06.439289",
     "exception": false,
     "start_time": "2023-11-17T02:28:06.433791",
     "status": "completed"
    },
    "tags": []
   },
   "source": [
    "# 🛠️ Data Preparation"
   ]
  },
  {
   "cell_type": "code",
   "execution_count": 4,
   "id": "4c4f0729",
   "metadata": {
    "execution": {
     "iopub.execute_input": "2023-11-17T02:28:06.452397Z",
     "iopub.status.busy": "2023-11-17T02:28:06.452076Z",
     "iopub.status.idle": "2023-11-17T02:28:06.493087Z",
     "shell.execute_reply": "2023-11-17T02:28:06.492076Z"
    },
    "papermill": {
     "duration": 0.049845,
     "end_time": "2023-11-17T02:28:06.494933",
     "exception": false,
     "start_time": "2023-11-17T02:28:06.445088",
     "status": "completed"
    },
    "tags": []
   },
   "outputs": [
    {
     "data": {
      "text/plain": [
       "medium\n",
       "(none)       368743\n",
       "referral     261929\n",
       "organic      233803\n",
       "affiliate     16403\n",
       "cpc           13024\n",
       "Name: count, dtype: int64"
      ]
     },
     "execution_count": 4,
     "metadata": {},
     "output_type": "execute_result"
    }
   ],
   "source": [
    "session_medium_df['medium'].value_counts().head()"
   ]
  },
  {
   "cell_type": "code",
   "execution_count": 5,
   "id": "0b3dd111",
   "metadata": {
    "execution": {
     "iopub.execute_input": "2023-11-17T02:28:06.509198Z",
     "iopub.status.busy": "2023-11-17T02:28:06.508605Z",
     "iopub.status.idle": "2023-11-17T02:28:06.525042Z",
     "shell.execute_reply": "2023-11-17T02:28:06.524025Z"
    },
    "papermill": {
     "duration": 0.025795,
     "end_time": "2023-11-17T02:28:06.527092",
     "exception": false,
     "start_time": "2023-11-17T02:28:06.501297",
     "status": "completed"
    },
    "tags": []
   },
   "outputs": [
    {
     "data": {
      "text/plain": [
       "visitNumber\n",
       "1    703057\n",
       "2     92388\n",
       "3     35594\n",
       "4     18861\n",
       "5     11321\n",
       "Name: count, dtype: int64"
      ]
     },
     "execution_count": 5,
     "metadata": {},
     "output_type": "execute_result"
    }
   ],
   "source": [
    "session_medium_df['visitNumber'].value_counts().head()"
   ]
  },
  {
   "cell_type": "code",
   "execution_count": 6,
   "id": "b887c891",
   "metadata": {
    "execution": {
     "iopub.execute_input": "2023-11-17T02:28:06.541273Z",
     "iopub.status.busy": "2023-11-17T02:28:06.540702Z",
     "iopub.status.idle": "2023-11-17T02:28:06.564374Z",
     "shell.execute_reply": "2023-11-17T02:28:06.562752Z"
    },
    "papermill": {
     "duration": 0.03354,
     "end_time": "2023-11-17T02:28:06.566749",
     "exception": false,
     "start_time": "2023-11-17T02:28:06.533209",
     "status": "completed"
    },
    "tags": []
   },
   "outputs": [],
   "source": [
    "# Lets copy the data to seccure and use\n",
    "Medium_df=session_medium_df.copy()"
   ]
  },
  {
   "cell_type": "code",
   "execution_count": 7,
   "id": "daba96c0",
   "metadata": {
    "execution": {
     "iopub.execute_input": "2023-11-17T02:28:06.580661Z",
     "iopub.status.busy": "2023-11-17T02:28:06.580321Z",
     "iopub.status.idle": "2023-11-17T02:28:06.783641Z",
     "shell.execute_reply": "2023-11-17T02:28:06.782685Z"
    },
    "papermill": {
     "duration": 0.212632,
     "end_time": "2023-11-17T02:28:06.785574",
     "exception": false,
     "start_time": "2023-11-17T02:28:06.572942",
     "status": "completed"
    },
    "tags": []
   },
   "outputs": [
    {
     "data": {
      "text/plain": [
       "medium\n",
       "Direct         368857\n",
       "Referral       261929\n",
       "Search         233803\n",
       "Affiliate       16403\n",
       "Paid Search     13024\n",
       "Display Ad       6059\n",
       "Name: count, dtype: int64"
      ]
     },
     "execution_count": 7,
     "metadata": {},
     "output_type": "execute_result"
    }
   ],
   "source": [
    "# Na columns are dounting the model quality so lets fill with \"0\"\n",
    "Medium_df=Medium_df.fillna(0)\n",
    "\n",
    "map_dictionary = {'organic': 'Search', '(none)': 'Direct', \n",
    "                  'referral': 'Referral', 'cpc':'Paid Search', \n",
    "                  'affiliate': 'Affiliate', 'cpm': 'Display Ad', '(not set)': 'Direct'}\n",
    "\n",
    "Medium_df['medium']=Medium_df['medium'].map(map_dictionary)\n",
    "Medium_df['medium'].value_counts()"
   ]
  },
  {
   "cell_type": "code",
   "execution_count": 8,
   "id": "d7a1e7d3",
   "metadata": {
    "execution": {
     "iopub.execute_input": "2023-11-17T02:28:06.800085Z",
     "iopub.status.busy": "2023-11-17T02:28:06.799242Z",
     "iopub.status.idle": "2023-11-17T02:28:06.816673Z",
     "shell.execute_reply": "2023-11-17T02:28:06.815530Z"
    },
    "papermill": {
     "duration": 0.026776,
     "end_time": "2023-11-17T02:28:06.818865",
     "exception": false,
     "start_time": "2023-11-17T02:28:06.792089",
     "status": "completed"
    },
    "tags": []
   },
   "outputs": [
    {
     "data": {
      "text/plain": [
       "conversion\n",
       "0.0    890053\n",
       "1.0     10022\n",
       "Name: count, dtype: int64"
      ]
     },
     "execution_count": 8,
     "metadata": {},
     "output_type": "execute_result"
    }
   ],
   "source": [
    "# For this model I only concentrate on first conversion only for clarity purpose\n",
    "#Updating the session to one if the sessions haveing more than one\n",
    "Medium_df.loc[Medium_df['conversion'] >= 1,'conversion']  = 1\n",
    "Medium_df['conversion'].value_counts()"
   ]
  },
  {
   "cell_type": "code",
   "execution_count": 9,
   "id": "ca596247",
   "metadata": {
    "execution": {
     "iopub.execute_input": "2023-11-17T02:28:06.833579Z",
     "iopub.status.busy": "2023-11-17T02:28:06.833177Z",
     "iopub.status.idle": "2023-11-17T02:28:20.973892Z",
     "shell.execute_reply": "2023-11-17T02:28:20.972900Z"
    },
    "papermill": {
     "duration": 14.15113,
     "end_time": "2023-11-17T02:28:20.976534",
     "exception": false,
     "start_time": "2023-11-17T02:28:06.825404",
     "status": "completed"
    },
    "tags": []
   },
   "outputs": [
    {
     "data": {
      "text/html": [
       "<div>\n",
       "<style scoped>\n",
       "    .dataframe tbody tr th:only-of-type {\n",
       "        vertical-align: middle;\n",
       "    }\n",
       "\n",
       "    .dataframe tbody tr th {\n",
       "        vertical-align: top;\n",
       "    }\n",
       "\n",
       "    .dataframe thead th {\n",
       "        text-align: right;\n",
       "    }\n",
       "</style>\n",
       "<table border=\"1\" class=\"dataframe\">\n",
       "  <thead>\n",
       "    <tr style=\"text-align: right;\">\n",
       "      <th></th>\n",
       "      <th>fullVisitorId</th>\n",
       "      <th>medium</th>\n",
       "    </tr>\n",
       "  </thead>\n",
       "  <tbody>\n",
       "    <tr>\n",
       "      <th>0</th>\n",
       "      <td>0000010278554503158</td>\n",
       "      <td>[Search]</td>\n",
       "    </tr>\n",
       "    <tr>\n",
       "      <th>1</th>\n",
       "      <td>0000020424342248747</td>\n",
       "      <td>[Direct]</td>\n",
       "    </tr>\n",
       "    <tr>\n",
       "      <th>2</th>\n",
       "      <td>0000027376579751715</td>\n",
       "      <td>[Direct]</td>\n",
       "    </tr>\n",
       "    <tr>\n",
       "      <th>3</th>\n",
       "      <td>0000039460501403861</td>\n",
       "      <td>[Referral]</td>\n",
       "    </tr>\n",
       "    <tr>\n",
       "      <th>4</th>\n",
       "      <td>0000040862739425590</td>\n",
       "      <td>[Direct, Direct]</td>\n",
       "    </tr>\n",
       "  </tbody>\n",
       "</table>\n",
       "</div>"
      ],
      "text/plain": [
       "         fullVisitorId            medium\n",
       "0  0000010278554503158          [Search]\n",
       "1  0000020424342248747          [Direct]\n",
       "2  0000027376579751715          [Direct]\n",
       "3  0000039460501403861        [Referral]\n",
       "4  0000040862739425590  [Direct, Direct]"
      ]
     },
     "execution_count": 9,
     "metadata": {},
     "output_type": "execute_result"
    }
   ],
   "source": [
    "medium_df=Medium_df\n",
    "#Group by visitor aggregating all mediums\n",
    "path_df = medium_df.groupby('fullVisitorId')['medium'].agg(lambda x: x.tolist()).reset_index()\n",
    "\n",
    "path_df.head()"
   ]
  },
  {
   "cell_type": "code",
   "execution_count": 10,
   "id": "9440a1bc",
   "metadata": {
    "execution": {
     "iopub.execute_input": "2023-11-17T02:28:20.991775Z",
     "iopub.status.busy": "2023-11-17T02:28:20.991409Z",
     "iopub.status.idle": "2023-11-17T02:28:21.181409Z",
     "shell.execute_reply": "2023-11-17T02:28:21.180377Z"
    },
    "papermill": {
     "duration": 0.200209,
     "end_time": "2023-11-17T02:28:21.183587",
     "exception": false,
     "start_time": "2023-11-17T02:28:20.983378",
     "status": "completed"
    },
    "tags": []
   },
   "outputs": [
    {
     "data": {
      "text/html": [
       "<div>\n",
       "<style scoped>\n",
       "    .dataframe tbody tr th:only-of-type {\n",
       "        vertical-align: middle;\n",
       "    }\n",
       "\n",
       "    .dataframe tbody tr th {\n",
       "        vertical-align: top;\n",
       "    }\n",
       "\n",
       "    .dataframe thead th {\n",
       "        text-align: right;\n",
       "    }\n",
       "</style>\n",
       "<table border=\"1\" class=\"dataframe\">\n",
       "  <thead>\n",
       "    <tr style=\"text-align: right;\">\n",
       "      <th></th>\n",
       "      <th>fullVisitorId</th>\n",
       "      <th>conversion</th>\n",
       "      <th>value</th>\n",
       "    </tr>\n",
       "  </thead>\n",
       "  <tbody>\n",
       "    <tr>\n",
       "      <th>3</th>\n",
       "      <td>6335006349301752754</td>\n",
       "      <td>0.0</td>\n",
       "      <td>0.00</td>\n",
       "    </tr>\n",
       "    <tr>\n",
       "      <th>9</th>\n",
       "      <td>9813549014448545779</td>\n",
       "      <td>0.0</td>\n",
       "      <td>0.00</td>\n",
       "    </tr>\n",
       "    <tr>\n",
       "      <th>24</th>\n",
       "      <td>3659524263905388125</td>\n",
       "      <td>0.0</td>\n",
       "      <td>0.00</td>\n",
       "    </tr>\n",
       "    <tr>\n",
       "      <th>25</th>\n",
       "      <td>4317514585616275362</td>\n",
       "      <td>0.0</td>\n",
       "      <td>0.00</td>\n",
       "    </tr>\n",
       "    <tr>\n",
       "      <th>31</th>\n",
       "      <td>9907138721210043039</td>\n",
       "      <td>1.0</td>\n",
       "      <td>11.99</td>\n",
       "    </tr>\n",
       "  </tbody>\n",
       "</table>\n",
       "</div>"
      ],
      "text/plain": [
       "          fullVisitorId  conversion  value\n",
       "3   6335006349301752754         0.0   0.00\n",
       "9   9813549014448545779         0.0   0.00\n",
       "24  3659524263905388125         0.0   0.00\n",
       "25  4317514585616275362         0.0   0.00\n",
       "31  9907138721210043039         1.0  11.99"
      ]
     },
     "execution_count": 10,
     "metadata": {},
     "output_type": "execute_result"
    }
   ],
   "source": [
    "# Drop all the columns except last one for each visitor\n",
    "last_session_df = medium_df.drop_duplicates('fullVisitorId', keep='last')[['fullVisitorId', 'conversion', 'value']]\n",
    "\n",
    "last_session_df.head()"
   ]
  },
  {
   "cell_type": "code",
   "execution_count": 11,
   "id": "09078427",
   "metadata": {
    "execution": {
     "iopub.execute_input": "2023-11-17T02:28:21.198917Z",
     "iopub.status.busy": "2023-11-17T02:28:21.198578Z",
     "iopub.status.idle": "2023-11-17T02:28:22.152979Z",
     "shell.execute_reply": "2023-11-17T02:28:22.151439Z"
    },
    "papermill": {
     "duration": 0.965006,
     "end_time": "2023-11-17T02:28:22.155500",
     "exception": false,
     "start_time": "2023-11-17T02:28:21.190494",
     "status": "completed"
    },
    "tags": []
   },
   "outputs": [
    {
     "data": {
      "text/html": [
       "<div>\n",
       "<style scoped>\n",
       "    .dataframe tbody tr th:only-of-type {\n",
       "        vertical-align: middle;\n",
       "    }\n",
       "\n",
       "    .dataframe tbody tr th {\n",
       "        vertical-align: top;\n",
       "    }\n",
       "\n",
       "    .dataframe thead th {\n",
       "        text-align: right;\n",
       "    }\n",
       "</style>\n",
       "<table border=\"1\" class=\"dataframe\">\n",
       "  <thead>\n",
       "    <tr style=\"text-align: right;\">\n",
       "      <th></th>\n",
       "      <th>fullVisitorId</th>\n",
       "      <th>medium</th>\n",
       "      <th>conversion</th>\n",
       "      <th>value</th>\n",
       "    </tr>\n",
       "  </thead>\n",
       "  <tbody>\n",
       "    <tr>\n",
       "      <th>0</th>\n",
       "      <td>0000010278554503158</td>\n",
       "      <td>[Search]</td>\n",
       "      <td>0.0</td>\n",
       "      <td>0.0</td>\n",
       "    </tr>\n",
       "    <tr>\n",
       "      <th>1</th>\n",
       "      <td>0000020424342248747</td>\n",
       "      <td>[Direct]</td>\n",
       "      <td>0.0</td>\n",
       "      <td>0.0</td>\n",
       "    </tr>\n",
       "    <tr>\n",
       "      <th>2</th>\n",
       "      <td>0000027376579751715</td>\n",
       "      <td>[Direct]</td>\n",
       "      <td>0.0</td>\n",
       "      <td>0.0</td>\n",
       "    </tr>\n",
       "    <tr>\n",
       "      <th>3</th>\n",
       "      <td>0000039460501403861</td>\n",
       "      <td>[Referral]</td>\n",
       "      <td>0.0</td>\n",
       "      <td>0.0</td>\n",
       "    </tr>\n",
       "    <tr>\n",
       "      <th>4</th>\n",
       "      <td>0000040862739425590</td>\n",
       "      <td>[Direct, Direct]</td>\n",
       "      <td>0.0</td>\n",
       "      <td>0.0</td>\n",
       "    </tr>\n",
       "  </tbody>\n",
       "</table>\n",
       "</div>"
      ],
      "text/plain": [
       "         fullVisitorId            medium  conversion  value\n",
       "0  0000010278554503158          [Search]         0.0    0.0\n",
       "1  0000020424342248747          [Direct]         0.0    0.0\n",
       "2  0000027376579751715          [Direct]         0.0    0.0\n",
       "3  0000039460501403861        [Referral]         0.0    0.0\n",
       "4  0000040862739425590  [Direct, Direct]         0.0    0.0"
      ]
     },
     "execution_count": 11,
     "metadata": {},
     "output_type": "execute_result"
    }
   ],
   "source": [
    "#Merging the two tables\n",
    "path_df = pd.merge(path_df, last_session_df, how='left', on='fullVisitorId')\n",
    "path_df.head()"
   ]
  },
  {
   "cell_type": "code",
   "execution_count": 12,
   "id": "958df039",
   "metadata": {
    "execution": {
     "iopub.execute_input": "2023-11-17T02:28:22.172329Z",
     "iopub.status.busy": "2023-11-17T02:28:22.171958Z",
     "iopub.status.idle": "2023-11-17T02:28:26.584969Z",
     "shell.execute_reply": "2023-11-17T02:28:26.584051Z"
    },
    "papermill": {
     "duration": 4.423788,
     "end_time": "2023-11-17T02:28:26.586920",
     "exception": false,
     "start_time": "2023-11-17T02:28:22.163132",
     "status": "completed"
    },
    "tags": []
   },
   "outputs": [
    {
     "data": {
      "text/html": [
       "<div>\n",
       "<style scoped>\n",
       "    .dataframe tbody tr th:only-of-type {\n",
       "        vertical-align: middle;\n",
       "    }\n",
       "\n",
       "    .dataframe tbody tr th {\n",
       "        vertical-align: top;\n",
       "    }\n",
       "\n",
       "    .dataframe thead th {\n",
       "        text-align: right;\n",
       "    }\n",
       "</style>\n",
       "<table border=\"1\" class=\"dataframe\">\n",
       "  <thead>\n",
       "    <tr style=\"text-align: right;\">\n",
       "      <th></th>\n",
       "      <th>fullVisitorId</th>\n",
       "      <th>medium</th>\n",
       "      <th>conversion</th>\n",
       "      <th>value</th>\n",
       "    </tr>\n",
       "  </thead>\n",
       "  <tbody>\n",
       "    <tr>\n",
       "      <th>0</th>\n",
       "      <td>0000010278554503158</td>\n",
       "      <td>Search</td>\n",
       "      <td>0.0</td>\n",
       "      <td>0.0</td>\n",
       "    </tr>\n",
       "    <tr>\n",
       "      <th>1</th>\n",
       "      <td>0000020424342248747</td>\n",
       "      <td>Direct</td>\n",
       "      <td>0.0</td>\n",
       "      <td>0.0</td>\n",
       "    </tr>\n",
       "    <tr>\n",
       "      <th>2</th>\n",
       "      <td>0000027376579751715</td>\n",
       "      <td>Direct</td>\n",
       "      <td>0.0</td>\n",
       "      <td>0.0</td>\n",
       "    </tr>\n",
       "    <tr>\n",
       "      <th>3</th>\n",
       "      <td>0000039460501403861</td>\n",
       "      <td>Referral</td>\n",
       "      <td>0.0</td>\n",
       "      <td>0.0</td>\n",
       "    </tr>\n",
       "    <tr>\n",
       "      <th>4</th>\n",
       "      <td>0000040862739425590</td>\n",
       "      <td>Direct &gt; Direct</td>\n",
       "      <td>0.0</td>\n",
       "      <td>0.0</td>\n",
       "    </tr>\n",
       "  </tbody>\n",
       "</table>\n",
       "</div>"
      ],
      "text/plain": [
       "         fullVisitorId           medium  conversion  value\n",
       "0  0000010278554503158           Search         0.0    0.0\n",
       "1  0000020424342248747           Direct         0.0    0.0\n",
       "2  0000027376579751715           Direct         0.0    0.0\n",
       "3  0000039460501403861         Referral         0.0    0.0\n",
       "4  0000040862739425590  Direct > Direct         0.0    0.0"
      ]
     },
     "execution_count": 12,
     "metadata": {},
     "output_type": "execute_result"
    }
   ],
   "source": [
    "\n",
    "# Modify the medium as per the channelattribution model\n",
    "def listToString(df):  \n",
    "    str1 = \"\"  \n",
    "    for i in df['medium']:  \n",
    "        str1 += i + ' > '    \n",
    "    return str1[:-3]\n",
    "\n",
    "path_df['medium'] = path_df.apply(listToString, axis=1)\n",
    "\n",
    "path_df.head()\n",
    "    "
   ]
  },
  {
   "cell_type": "code",
   "execution_count": 13,
   "id": "9263b32d",
   "metadata": {
    "execution": {
     "iopub.execute_input": "2023-11-17T02:28:26.603406Z",
     "iopub.status.busy": "2023-11-17T02:28:26.602862Z",
     "iopub.status.idle": "2023-11-17T02:28:26.621095Z",
     "shell.execute_reply": "2023-11-17T02:28:26.619666Z"
    },
    "papermill": {
     "duration": 0.029076,
     "end_time": "2023-11-17T02:28:26.623306",
     "exception": false,
     "start_time": "2023-11-17T02:28:26.594230",
     "status": "completed"
    },
    "tags": []
   },
   "outputs": [],
   "source": [
    "path_df.drop(columns = 'fullVisitorId', inplace = True)"
   ]
  },
  {
   "cell_type": "code",
   "execution_count": 14,
   "id": "a9e1c749",
   "metadata": {
    "execution": {
     "iopub.execute_input": "2023-11-17T02:28:26.640087Z",
     "iopub.status.busy": "2023-11-17T02:28:26.639718Z",
     "iopub.status.idle": "2023-11-17T02:28:26.728018Z",
     "shell.execute_reply": "2023-11-17T02:28:26.726875Z"
    },
    "papermill": {
     "duration": 0.100161,
     "end_time": "2023-11-17T02:28:26.730475",
     "exception": false,
     "start_time": "2023-11-17T02:28:26.630314",
     "status": "completed"
    },
    "tags": []
   },
   "outputs": [
    {
     "data": {
      "text/html": [
       "<div>\n",
       "<style scoped>\n",
       "    .dataframe tbody tr th:only-of-type {\n",
       "        vertical-align: middle;\n",
       "    }\n",
       "\n",
       "    .dataframe tbody tr th {\n",
       "        vertical-align: top;\n",
       "    }\n",
       "\n",
       "    .dataframe thead th {\n",
       "        text-align: right;\n",
       "    }\n",
       "</style>\n",
       "<table border=\"1\" class=\"dataframe\">\n",
       "  <thead>\n",
       "    <tr style=\"text-align: right;\">\n",
       "      <th></th>\n",
       "      <th>medium</th>\n",
       "      <th>total_conversions</th>\n",
       "      <th>total_value</th>\n",
       "      <th>total_null</th>\n",
       "    </tr>\n",
       "  </thead>\n",
       "  <tbody>\n",
       "    <tr>\n",
       "      <th>987</th>\n",
       "      <td>Paid Search &gt; Display Ad &gt; Display Ad &gt; Displa...</td>\n",
       "      <td>1.0</td>\n",
       "      <td>602.91</td>\n",
       "      <td>4</td>\n",
       "    </tr>\n",
       "    <tr>\n",
       "      <th>733</th>\n",
       "      <td>Display Ad &gt; Display Ad &gt; Direct &gt; Direct &gt; Di...</td>\n",
       "      <td>0.0</td>\n",
       "      <td>0.00</td>\n",
       "      <td>1</td>\n",
       "    </tr>\n",
       "    <tr>\n",
       "      <th>1028</th>\n",
       "      <td>Paid Search &gt; Paid Search &gt; Direct &gt; Direct &gt; ...</td>\n",
       "      <td>0.0</td>\n",
       "      <td>0.00</td>\n",
       "      <td>1</td>\n",
       "    </tr>\n",
       "    <tr>\n",
       "      <th>417</th>\n",
       "      <td>Direct &gt; Direct &gt; Direct &gt; Referral &gt; Referral</td>\n",
       "      <td>0.0</td>\n",
       "      <td>0.00</td>\n",
       "      <td>50</td>\n",
       "    </tr>\n",
       "    <tr>\n",
       "      <th>313</th>\n",
       "      <td>Direct &gt; Direct &gt; Direct &gt; Direct &gt; Direct &gt; D...</td>\n",
       "      <td>0.0</td>\n",
       "      <td>0.00</td>\n",
       "      <td>34</td>\n",
       "    </tr>\n",
       "    <tr>\n",
       "      <th>1267</th>\n",
       "      <td>Referral &gt; Affiliate &gt; Affiliate &gt; Affiliate &gt;...</td>\n",
       "      <td>0.0</td>\n",
       "      <td>0.00</td>\n",
       "      <td>1</td>\n",
       "    </tr>\n",
       "    <tr>\n",
       "      <th>620</th>\n",
       "      <td>Direct &gt; Search &gt; Search &gt; Search &gt; Search &gt; R...</td>\n",
       "      <td>0.0</td>\n",
       "      <td>0.00</td>\n",
       "      <td>2</td>\n",
       "    </tr>\n",
       "    <tr>\n",
       "      <th>1043</th>\n",
       "      <td>Paid Search &gt; Paid Search &gt; Direct &gt; Search &gt; ...</td>\n",
       "      <td>0.0</td>\n",
       "      <td>0.00</td>\n",
       "      <td>3</td>\n",
       "    </tr>\n",
       "    <tr>\n",
       "      <th>397</th>\n",
       "      <td>Direct &gt; Direct &gt; Direct &gt; Direct &gt; Search &gt; S...</td>\n",
       "      <td>0.0</td>\n",
       "      <td>0.00</td>\n",
       "      <td>9</td>\n",
       "    </tr>\n",
       "    <tr>\n",
       "      <th>1334</th>\n",
       "      <td>Search &gt; Affiliate &gt; Affiliate &gt; Affiliate</td>\n",
       "      <td>0.0</td>\n",
       "      <td>0.00</td>\n",
       "      <td>7</td>\n",
       "    </tr>\n",
       "  </tbody>\n",
       "</table>\n",
       "</div>"
      ],
      "text/plain": [
       "                                                 medium  total_conversions  \\\n",
       "987   Paid Search > Display Ad > Display Ad > Displa...                1.0   \n",
       "733   Display Ad > Display Ad > Direct > Direct > Di...                0.0   \n",
       "1028  Paid Search > Paid Search > Direct > Direct > ...                0.0   \n",
       "417      Direct > Direct > Direct > Referral > Referral                0.0   \n",
       "313   Direct > Direct > Direct > Direct > Direct > D...                0.0   \n",
       "1267  Referral > Affiliate > Affiliate > Affiliate >...                0.0   \n",
       "620   Direct > Search > Search > Search > Search > R...                0.0   \n",
       "1043  Paid Search > Paid Search > Direct > Search > ...                0.0   \n",
       "397   Direct > Direct > Direct > Direct > Search > S...                0.0   \n",
       "1334         Search > Affiliate > Affiliate > Affiliate                0.0   \n",
       "\n",
       "      total_value  total_null  \n",
       "987        602.91           4  \n",
       "733          0.00           1  \n",
       "1028         0.00           1  \n",
       "417          0.00          50  \n",
       "313          0.00          34  \n",
       "1267         0.00           1  \n",
       "620          0.00           2  \n",
       "1043         0.00           3  \n",
       "397          0.00           9  \n",
       "1334         0.00           7  "
      ]
     },
     "execution_count": 14,
     "metadata": {},
     "output_type": "execute_result"
    }
   ],
   "source": [
    "\n",
    "path_df['null'] = np.where(path_df['conversion'] == 0,1,0)\n",
    "\n",
    "attribution_df = path_df.groupby(['medium'], as_index = False).sum()\n",
    "attribution_df.rename(columns={\"conversion\": \"total_conversions\", \"null\": \"total_null\", \"value\": \"total_value\"}, inplace = True)\n",
    "\n",
    "\n",
    "attribution_df.sample(10)"
   ]
  },
  {
   "cell_type": "code",
   "execution_count": 15,
   "id": "e68c278a",
   "metadata": {
    "execution": {
     "iopub.execute_input": "2023-11-17T02:28:26.746622Z",
     "iopub.status.busy": "2023-11-17T02:28:26.746248Z",
     "iopub.status.idle": "2023-11-17T02:28:26.788582Z",
     "shell.execute_reply": "2023-11-17T02:28:26.787559Z"
    },
    "papermill": {
     "duration": 0.052879,
     "end_time": "2023-11-17T02:28:26.790780",
     "exception": false,
     "start_time": "2023-11-17T02:28:26.737901",
     "status": "completed"
    },
    "tags": []
   },
   "outputs": [
    {
     "name": "stdout",
     "output_type": "stream",
     "text": [
      "Number of simulations: 100000 - Convergence reached: 1.68% < 5.00%\n",
      "Percentage of simulated paths that successfully end before maximum number of steps (5) is reached: 99.99%\n"
     ]
    }
   ],
   "source": [
    "M=markov_model(attribution_df, \"medium\", \"total_conversions\", var_value=\"total_value\", flg_adv=False)\n",
    "H=heuristic_models(attribution_df,\"medium\",\"total_conversions\",var_value=\"total_value\", flg_adv=False)"
   ]
  },
  {
   "cell_type": "code",
   "execution_count": 16,
   "id": "a94a710f",
   "metadata": {
    "execution": {
     "iopub.execute_input": "2023-11-17T02:28:26.807183Z",
     "iopub.status.busy": "2023-11-17T02:28:26.806833Z",
     "iopub.status.idle": "2023-11-17T02:28:27.035732Z",
     "shell.execute_reply": "2023-11-17T02:28:27.034711Z"
    },
    "papermill": {
     "duration": 0.239841,
     "end_time": "2023-11-17T02:28:27.037880",
     "exception": false,
     "start_time": "2023-11-17T02:28:26.798039",
     "status": "completed"
    },
    "tags": []
   },
   "outputs": [
    {
     "data": {
      "text/html": [
       "        <script type=\"text/javascript\">\n",
       "        window.PlotlyConfig = {MathJaxConfig: 'local'};\n",
       "        if (window.MathJax && window.MathJax.Hub && window.MathJax.Hub.Config) {window.MathJax.Hub.Config({SVG: {font: \"STIX-Web\"}});}\n",
       "        if (typeof require !== 'undefined') {\n",
       "        require.undef(\"plotly\");\n",
       "        requirejs.config({\n",
       "            paths: {\n",
       "                'plotly': ['https://cdn.plot.ly/plotly-2.24.1.min']\n",
       "            }\n",
       "        });\n",
       "        require(['plotly'], function(Plotly) {\n",
       "            window._Plotly = Plotly;\n",
       "        });\n",
       "        }\n",
       "        </script>\n",
       "        "
      ]
     },
     "metadata": {},
     "output_type": "display_data"
    },
    {
     "data": {
      "text/html": [
       "<div>                            <div id=\"745492e9-7599-4da9-9824-f6a4a8b17169\" class=\"plotly-graph-div\" style=\"height:525px; width:100%;\"></div>            <script type=\"text/javascript\">                require([\"plotly\"], function(Plotly) {                    window.PLOTLYENV=window.PLOTLYENV || {};                                    if (document.getElementById(\"745492e9-7599-4da9-9824-f6a4a8b17169\")) {                    Plotly.newPlot(                        \"745492e9-7599-4da9-9824-f6a4a8b17169\",                        [{\"type\":\"histogram\",\"histfunc\":\"sum\",\"x\":[\"Affiliate\",\"Direct\",\"Search\",\"Referral\",\"Display Ad\",\"Paid Search\",\"Affiliate\",\"Direct\",\"Search\",\"Referral\",\"Display Ad\",\"Paid Search\",\"Affiliate\",\"Direct\",\"Search\",\"Referral\",\"Display Ad\",\"Paid Search\",\"Affiliate\",\"Direct\",\"Search\",\"Referral\",\"Display Ad\",\"Paid Search\"],\"y\":[5.0,4678.0,1049.0,101.0,106.0,164.0,6.0,4503.0,1273.0,177.0,53.0,91.0,5.5,4598.284239174138,1167.7839122650655,135.01042188805346,73.54404572036151,122.87738095238097,5.17495760316563,4477.488317316752,1208.0651026945543,164.44865272281893,97.74919917090634,150.0737704918033],\"transforms\":[{\"type\":\"groupby\",\"groups\":[\"first_touch\",\"first_touch\",\"first_touch\",\"first_touch\",\"first_touch\",\"first_touch\",\"last_touch\",\"last_touch\",\"last_touch\",\"last_touch\",\"last_touch\",\"last_touch\",\"linear_touch\",\"linear_touch\",\"linear_touch\",\"linear_touch\",\"linear_touch\",\"linear_touch\",\"markov_model\",\"markov_model\",\"markov_model\",\"markov_model\",\"markov_model\",\"markov_model\"]}]}],                        {},                        {\"responsive\": true}                    ).then(function(){\n",
       "                            \n",
       "var gd = document.getElementById('745492e9-7599-4da9-9824-f6a4a8b17169');\n",
       "var x = new MutationObserver(function (mutations, observer) {{\n",
       "        var display = window.getComputedStyle(gd).display;\n",
       "        if (!display || display === 'none') {{\n",
       "            console.log([gd, 'removed!']);\n",
       "            Plotly.purge(gd);\n",
       "            observer.disconnect();\n",
       "        }}\n",
       "}});\n",
       "\n",
       "// Listen for the removal of the full notebook cells\n",
       "var notebookContainer = gd.closest('#notebook-container');\n",
       "if (notebookContainer) {{\n",
       "    x.observe(notebookContainer, {childList: true});\n",
       "}}\n",
       "\n",
       "// Listen for the clearing of the current output cell\n",
       "var outputEl = gd.closest('.output');\n",
       "if (outputEl) {{\n",
       "    x.observe(outputEl, {childList: true});\n",
       "}}\n",
       "\n",
       "                        })                };                });            </script>        </div>"
      ]
     },
     "metadata": {},
     "output_type": "display_data"
    }
   ],
   "source": [
    "# Graph the attribution of the different models\n",
    "R=pd.merge(H,M,on=\"channel_name\",how=\"inner\")\n",
    "R1=R[[\"channel_name\",\"first_touch_conversions\",\"last_touch_conversions\", \"linear_touch_conversions\",\"total_conversions\"]]\n",
    "R1.columns=[\"channel_name\",\"first_touch\",\"last_touch\",\"linear_touch\",\"markov_model\"]\n",
    "\n",
    "R1=pd.melt(R1, id_vars=\"channel_name\")\n",
    "\n",
    "data = [dict(type = \"histogram\", histfunc=\"sum\",x = R1.channel_name, y = R1.value,\n",
    "             transforms = [dict(type = \"groupby\", groups = R1.variable,)],)]\n",
    "\n",
    "fig = dict({\"data\":data}) \n",
    "pio.show(fig,validate=False)"
   ]
  },
  {
   "cell_type": "markdown",
   "id": "afcfa879",
   "metadata": {
    "papermill": {
     "duration": 0.007329,
     "end_time": "2023-11-17T02:28:27.054755",
     "exception": false,
     "start_time": "2023-11-17T02:28:27.047426",
     "status": "completed"
    },
    "tags": []
   },
   "source": [
    "📊 Analysis from the Graph: Understanding Attribution Models 🤔\n",
    "\n",
    "Upon examining the graph, it becomes evident how various models allocate conversion credit to different channels. Notably, the Markov attribution model appears to assign higher credit to the paid search channel based on our observations."
   ]
  },
  {
   "cell_type": "code",
   "execution_count": 17,
   "id": "e2b4ce1d",
   "metadata": {
    "execution": {
     "iopub.execute_input": "2023-11-17T02:28:27.071051Z",
     "iopub.status.busy": "2023-11-17T02:28:27.070451Z",
     "iopub.status.idle": "2023-11-17T02:28:27.082783Z",
     "shell.execute_reply": "2023-11-17T02:28:27.081746Z"
    },
    "papermill": {
     "duration": 0.022815,
     "end_time": "2023-11-17T02:28:27.084779",
     "exception": false,
     "start_time": "2023-11-17T02:28:27.061964",
     "status": "completed"
    },
    "tags": []
   },
   "outputs": [
    {
     "data": {
      "text/html": [
       "<div>                            <div id=\"f5b93db4-37a1-4b06-89fd-a19e78dd31d9\" class=\"plotly-graph-div\" style=\"height:525px; width:100%;\"></div>            <script type=\"text/javascript\">                require([\"plotly\"], function(Plotly) {                    window.PLOTLYENV=window.PLOTLYENV || {};                                    if (document.getElementById(\"f5b93db4-37a1-4b06-89fd-a19e78dd31d9\")) {                    Plotly.newPlot(                        \"f5b93db4-37a1-4b06-89fd-a19e78dd31d9\",                        [{\"type\":\"histogram\",\"histfunc\":\"sum\",\"x\":[\"Affiliate\",\"Direct\",\"Search\",\"Referral\",\"Display Ad\",\"Paid Search\",\"Affiliate\",\"Direct\",\"Search\",\"Referral\",\"Display Ad\",\"Paid Search\",\"Affiliate\",\"Direct\",\"Search\",\"Referral\",\"Display Ad\",\"Paid Search\",\"Affiliate\",\"Direct\",\"Search\",\"Referral\",\"Display Ad\",\"Paid Search\"],\"y\":[327.81,509826.0899999999,102131.12,8822.26,11978.099999999993,17238.64,341.81,492347.1499999999,128264.68,15586.14,6400.69,7383.550000000001,334.81,501797.30078708247,115763.92644412053,11849.962675229743,8984.931593567253,11593.0885,350.18976979867875,484763.2011241294,123485.69439915966,15836.129597571642,12170.942679483589,13717.862429857021],\"transforms\":[{\"type\":\"groupby\",\"groups\":[\"first_touch\",\"first_touch\",\"first_touch\",\"first_touch\",\"first_touch\",\"first_touch\",\"last_touch\",\"last_touch\",\"last_touch\",\"last_touch\",\"last_touch\",\"last_touch\",\"linear_touch\",\"linear_touch\",\"linear_touch\",\"linear_touch\",\"linear_touch\",\"linear_touch\",\"markov_model\",\"markov_model\",\"markov_model\",\"markov_model\",\"markov_model\",\"markov_model\"]}]}],                        {},                        {\"responsive\": true}                    ).then(function(){\n",
       "                            \n",
       "var gd = document.getElementById('f5b93db4-37a1-4b06-89fd-a19e78dd31d9');\n",
       "var x = new MutationObserver(function (mutations, observer) {{\n",
       "        var display = window.getComputedStyle(gd).display;\n",
       "        if (!display || display === 'none') {{\n",
       "            console.log([gd, 'removed!']);\n",
       "            Plotly.purge(gd);\n",
       "            observer.disconnect();\n",
       "        }}\n",
       "}});\n",
       "\n",
       "// Listen for the removal of the full notebook cells\n",
       "var notebookContainer = gd.closest('#notebook-container');\n",
       "if (notebookContainer) {{\n",
       "    x.observe(notebookContainer, {childList: true});\n",
       "}}\n",
       "\n",
       "// Listen for the clearing of the current output cell\n",
       "var outputEl = gd.closest('.output');\n",
       "if (outputEl) {{\n",
       "    x.observe(outputEl, {childList: true});\n",
       "}}\n",
       "\n",
       "                        })                };                });            </script>        </div>"
      ]
     },
     "metadata": {},
     "output_type": "display_data"
    }
   ],
   "source": [
    "#looking at attribution based on value\n",
    "R2=R[[\"channel_name\",\"first_touch_value\",\"last_touch_value\",\"linear_touch_value\",\"total_conversion_value\"]]\n",
    "#Renaming the columns\n",
    "R2.columns=[\"channel_name\",\"first_touch\",\"last_touch\",\"linear_touch\",\"markov_model\"]\n",
    "R2=pd.melt(R2, id_vars=\"channel_name\")\n",
    "\n",
    "#creating the list dictionary to configure the formates\n",
    "data=[dict(\n",
    "    type=\"histogram\",histfunc=\"sum\",\n",
    "    x= R2.channel_name,\n",
    "    y= R2.value,\n",
    "    transforms = [dict(type = \"groupby\",groups = R2.variable,)],\n",
    ")]\n",
    "fig = dict({\"data\":data})\n",
    "pio.show(fig,validate=False)"
   ]
  },
  {
   "cell_type": "markdown",
   "id": "c15cfeb9",
   "metadata": {
    "papermill": {
     "duration": 0.007136,
     "end_time": "2023-11-17T02:28:27.099501",
     "exception": false,
     "start_time": "2023-11-17T02:28:27.092365",
     "status": "completed"
    },
    "tags": []
   },
   "source": [
    "# Transition matrix"
   ]
  },
  {
   "cell_type": "code",
   "execution_count": 18,
   "id": "a08d68f6",
   "metadata": {
    "execution": {
     "iopub.execute_input": "2023-11-17T02:28:27.116212Z",
     "iopub.status.busy": "2023-11-17T02:28:27.115157Z",
     "iopub.status.idle": "2023-11-17T02:28:27.135332Z",
     "shell.execute_reply": "2023-11-17T02:28:27.134304Z"
    },
    "papermill": {
     "duration": 0.031015,
     "end_time": "2023-11-17T02:28:27.137708",
     "exception": false,
     "start_time": "2023-11-17T02:28:27.106693",
     "status": "completed"
    },
    "tags": []
   },
   "outputs": [],
   "source": [
    "transition_matrix=transition_matrix(attribution_df, \"medium\", \"total_conversions\", var_null=\"total_null\" , flg_adv=False)\n"
   ]
  },
  {
   "cell_type": "code",
   "execution_count": 19,
   "id": "5749167b",
   "metadata": {
    "execution": {
     "iopub.execute_input": "2023-11-17T02:28:27.154423Z",
     "iopub.status.busy": "2023-11-17T02:28:27.154080Z",
     "iopub.status.idle": "2023-11-17T02:28:27.174273Z",
     "shell.execute_reply": "2023-11-17T02:28:27.173222Z"
    },
    "papermill": {
     "duration": 0.030668,
     "end_time": "2023-11-17T02:28:27.176292",
     "exception": false,
     "start_time": "2023-11-17T02:28:27.145624",
     "status": "completed"
    },
    "tags": []
   },
   "outputs": [],
   "source": [
    "matrix = transition_matrix['transition_matrix']\n",
    "matrix = pd.pivot_table(matrix, values='transition_probability', index=['channel_from'],\n",
    "                    columns=['channel_to'], aggfunc=np.sum)\n",
    "\n",
    "column_dict = transition_matrix['channels'].set_index('id_channel')['channel_name'].to_dict()\n",
    "keys_values = column_dict.items()\n",
    "column_dict = {str(key): str(value) for key, value in keys_values}\n",
    "\n",
    "matrix = matrix.rename(mapper=column_dict, axis=1).rename(mapper=column_dict, axis=0)\n",
    "matrix.fillna(0, inplace = True)"
   ]
  },
  {
   "cell_type": "code",
   "execution_count": 20,
   "id": "76052b73",
   "metadata": {
    "execution": {
     "iopub.execute_input": "2023-11-17T02:28:27.194199Z",
     "iopub.status.busy": "2023-11-17T02:28:27.193449Z",
     "iopub.status.idle": "2023-11-17T02:28:27.662056Z",
     "shell.execute_reply": "2023-11-17T02:28:27.661198Z"
    },
    "papermill": {
     "duration": 0.479527,
     "end_time": "2023-11-17T02:28:27.663834",
     "exception": false,
     "start_time": "2023-11-17T02:28:27.184307",
     "status": "completed"
    },
    "tags": []
   },
   "outputs": [
    {
     "data": {
      "text/plain": [
       "(array([0.5, 1.5, 2.5, 3.5, 4.5, 5.5, 6.5, 7.5]),\n",
       " [Text(0.5, 0, '(conversion)'),\n",
       "  Text(1.5, 0, '(null)'),\n",
       "  Text(2.5, 0, 'Affiliate'),\n",
       "  Text(3.5, 0, 'Direct'),\n",
       "  Text(4.5, 0, 'Search'),\n",
       "  Text(5.5, 0, 'Referral'),\n",
       "  Text(6.5, 0, 'Display Ad'),\n",
       "  Text(7.5, 0, 'Paid Search')])"
      ]
     },
     "execution_count": 20,
     "metadata": {},
     "output_type": "execute_result"
    },
    {
     "data": {
      "image/png": "[encoded data removed]",
      "text/plain": [
       "<Figure size 1400x900 with 1 Axes>"
      ]
     },
     "metadata": {},
     "output_type": "display_data"
    }
   ],
   "source": [
    "fig = plt.figure(figsize = (14,9))\n",
    "style.use('ggplot')\n",
    "sns.set_style('whitegrid')\n",
    "\n",
    "sns.heatmap(matrix, cmap=sns.diverging_palette(20, 220, n=200), annot=True, center = 0,\\\n",
    "            annot_kws={'size':12}, cbar=False)\n",
    "plt.yticks(rotation=0, fontsize = 12)\n",
    "plt.xticks(fontsize = 12)"
   ]
  },
  {
   "cell_type": "markdown",
   "id": "46a7eabf",
   "metadata": {
    "papermill": {
     "duration": 0.008307,
     "end_time": "2023-11-17T02:28:27.680754",
     "exception": false,
     "start_time": "2023-11-17T02:28:27.672447",
     "status": "completed"
    },
    "tags": []
   },
   "source": [
    "# 🔍Conclusions\n",
    "\n",
    "The insights derived from the heat map and plots provide a comprehensive understanding of each marketing channel's contribution to conversions. Beyond individual channel performance, we've gained crucial insights into the interplay between channels, uncovering the paths that guide users from one channel to another.\n",
    "\n",
    "In today's landscape, where users encounter multiple touchpoints, this information holds immense value. It empowers us to optimize our multi-channel customer journeys effectively. The Markov Chain approach, as detailed in this article, enhances the accuracy of attributions, ensuring a more precise reflection of how users interact with our marketing efforts. 🚀📈"
   ]
  }
 ],
 "metadata": {
  "kaggle": {
   "accelerator": "none",
   "dataSources": [],
   "dockerImageVersionId": 30558,
   "isGpuEnabled": false,
   "isInternetEnabled": true,
   "language": "python",
   "sourceType": "notebook"
  },
  "kernelspec": {
   "display_name": "Python 3",
   "language": "python",
   "name": "python3"
  },
  "language_info": {
   "codemirror_mode": {
    "name": "ipython",
    "version": 3
   },
   "file_extension": ".py",
   "mimetype": "text/x-python",
   "name": "python",
   "nbconvert_exporter": "python",
   "pygments_lexer": "ipython3",
   "version": "3.10.12"
  },
  "papermill": {
   "default_parameters": {},
   "duration": 161.700113,
   "end_time": "2023-11-17T02:28:28.713516",
   "environment_variables": {},
   "exception": null,
   "input_path": "__notebook__.ipynb",
   "output_path": "__notebook__.ipynb",
   "parameters": {},
   "start_time": "2023-11-17T02:25:47.013403",
   "version": "2.4.0"
  }
 },
 "nbformat": 4,
 "nbformat_minor": 5
}
